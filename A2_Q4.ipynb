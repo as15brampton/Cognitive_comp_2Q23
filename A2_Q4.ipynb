{
 "cells": [
  {
   "cell_type": "markdown",
   "id": "2a7a9329-46e2-4025-9852-a092cc6f698f",
   "metadata": {},
   "source": [
    "Consider the following two sets, A and B, representing scores of two teams in multiple\n",
    "matches. A = {34, 56, 78, 90} and B = {78, 45, 90, 23}\n",
    "WAP to perform the following operations using set functions:\n",
    "i. Find the unique scores achieved by both teams (union of sets).\n",
    "ii. Identify the scores that are common to both teams (intersecƟon of sets).\n",
    "iii. Find the scores that are exclusive to each team (symmetric difference).\n",
    "iv. Check if the scores of team A are a subset of team B, and if team B's scores are\n",
    "a superset of team A.\n",
    "v. Remove a specific score X (input by the user) from set A if it exists. If not, print\n",
    "a message saying it is not present."
   ]
  },
  {
   "cell_type": "code",
   "execution_count": 6,
   "id": "2deae3c7-bf42-4fe5-8ef1-7266ded861e1",
   "metadata": {},
   "outputs": [
    {
     "name": "stdout",
     "output_type": "stream",
     "text": [
      "Unique scores achieved by both teams (Union): {34, 45, 78, 23, 56, 90}\n",
      "Common scores between both teams (Intersection): {90, 78}\n",
      "Scores exclusive to each team (Symmetric Difference): {34, 45, 23, 56}\n",
      "Is team A's scores a subset of team B? False\n",
      "Is team B's scores a superset of team A? False\n"
     ]
    },
    {
     "name": "stdout",
     "output_type": "stream",
     "text": [
      "Enter a score to remove from set A:  23\n"
     ]
    },
    {
     "name": "stdout",
     "output_type": "stream",
     "text": [
      "Score 23 not found in set A.\n",
      "Modified set A: {56, 34, 90, 78}\n"
     ]
    }
   ],
   "source": [
    "A = {34, 56, 78, 90}\n",
    "B = {78, 45, 90, 23}\n",
    "\n",
    "# i.(union of sets)\n",
    "union_ab = A.union(B)\n",
    "print(\"Unique scores achieved by both teams (Union):\", union_ab)\n",
    "\n",
    "# ii.(intersection of sets)\n",
    "intersection_ab = A.intersection(B)\n",
    "print(\"Common scores between both teams (Intersection):\", intersection_ab)\n",
    "\n",
    "# iii.(symmetric difference)\n",
    "symmetric_diff_ab = A.symmetric_difference(B)\n",
    "print(\"Scores exclusive to each team (Symmetric Difference):\", symmetric_diff_ab)\n",
    "\n",
    "# iv. Check if the scores of team A are a subset of team B, and if team B's scores are a superset of team A\n",
    "is_subset = A.issubset(B)\n",
    "is_superset = B.issuperset(A)\n",
    "print(\"Is team A's scores a subset of team B?\", is_subset)\n",
    "print(\"Is team B's scores a superset of team A?\", is_superset)\n",
    "\n",
    "# v. Remove a specific score X from set A if it exists\n",
    "score_to_remove = int(input(\"Enter a score to remove from set A: \"))\n",
    "\n",
    "if score_to_remove in A:\n",
    "    A.remove(score_to_remove)\n",
    "    print(f\"Score {score_to_remove} removed from set A.\")\n",
    "else:\n",
    "    print(f\"Score {score_to_remove} not found in set A.\")\n",
    "    \n",
    "print(\"Modified set A:\", A)\n"
   ]
  },
  {
   "cell_type": "code",
   "execution_count": null,
   "id": "8be1ab06-b3c9-4119-84e1-fdc096ef8423",
   "metadata": {},
   "outputs": [],
   "source": []
  }
 ],
 "metadata": {
  "kernelspec": {
   "display_name": "Python [conda env:base] *",
   "language": "python",
   "name": "conda-base-py"
  },
  "language_info": {
   "codemirror_mode": {
    "name": "ipython",
    "version": 3
   },
   "file_extension": ".py",
   "mimetype": "text/x-python",
   "name": "python",
   "nbconvert_exporter": "python",
   "pygments_lexer": "ipython3",
   "version": "3.12.7"
  }
 },
 "nbformat": 4,
 "nbformat_minor": 5
}
