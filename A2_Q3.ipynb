{
 "cells": [
  {
   "cell_type": "markdown",
   "id": "eef303eb-2c10-4137-8c00-a57d3795c0e6",
   "metadata": {},
   "source": [
    "WAP to create a list of 100 random numbers between 100 and 900. Count and print\n",
    "the:\n",
    "i. All odd numbers\n",
    "ii. All even numbers\n",
    "iii. All prime numbers"
   ]
  },
  {
   "cell_type": "code",
   "execution_count": null,
   "id": "f5a741ed-f0ff-4a2f-9a8b-57dd48f7ed05",
   "metadata": {},
   "outputs": [],
   "source": [
    "import random\n",
    "\n",
    "random_numbers = [random.randint(100, 900) for _ in range(100)]\n",
    "\n",
    "def is_prime(n):\n",
    "    if n < 2:\n",
    "        return False\n",
    "    for i in range(2, int(n ** 0.5) + 1):\n",
    "        if n % i == 0:\n",
    "            return False\n",
    "    return True\n",
    "\n",
    "odd_numbers = [num for num in random_numbers if num % 2 != 0]\n",
    "even_numbers = [num for num in random_numbers if num % 2 == 0]\n",
    "prime_numbers = [num for num in random_numbers if is_prime(num)]\n",
    "\n",
    "print(\"Odd Numbers:\", len(odd_numbers))\n",
    "print(\"Even Numbers:\", len(even_numbers))\n",
    "print(\"Prime Numbers:\", len(prime_numbers))"
   ]
  }
 ],
 "metadata": {
  "kernelspec": {
   "display_name": "Python [conda env:base] *",
   "language": "python",
   "name": "conda-base-py"
  },
  "language_info": {
   "codemirror_mode": {
    "name": "ipython",
    "version": 3
   },
   "file_extension": ".py",
   "mimetype": "text/x-python",
   "name": "python",
   "nbconvert_exporter": "python",
   "pygments_lexer": "ipython3",
   "version": "3.12.7"
  }
 },
 "nbformat": 4,
 "nbformat_minor": 5
}
