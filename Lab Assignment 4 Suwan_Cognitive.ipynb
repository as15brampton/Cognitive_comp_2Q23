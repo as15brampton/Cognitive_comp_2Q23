{
 "cells": [
  {
   "cell_type": "markdown",
   "id": "ab5b5455",
   "metadata": {},
   "source": [
    "Write a program to create a NumPy 1D-array with 5 elements and perform basic\n",
    "operations like:\n",
    "a) Addition of 2 in all the element\n",
    "b) Multiply 3 with all the elements\n",
    "c) Divide every element by 2"
   ]
  },
  {
   "cell_type": "code",
   "execution_count": 4,
   "id": "e087d4e2-3a8f-40ee-bc08-f8265149c429",
   "metadata": {},
   "outputs": [
    {
     "name": "stdout",
     "output_type": "stream",
     "text": [
      "Original array:  [1 2 3 4 5]\n",
      "Addition of 2 in all the elements:  [3 4 5 6 7]\n",
      "Multiplication of 3 in all the elements:  [ 3  6  9 12 15]\n",
      "Division by 2 in all the elements:  [0.5 1.  1.5 2.  2.5]\n"
     ]
    }
   ],
   "source": [
    "import numpy as np\n",
    "a=np.array([1,2,3,4,5])\n",
    "print(\"Original array: \",a)\n",
    "print(\"Addition of 2 in all the elements: \",a+2)\n",
    "print(\"Multiplication of 3 in all the elements: \",a*3)\n",
    "print(\"Division by 2 in all the elements: \",a/2)"
   ]
  },
  {
   "cell_type": "markdown",
   "id": "21ffca22",
   "metadata": {},
   "source": [
    "Questions on Basic NumPy Array:\n",
    "a) Reverse the NumPy array: arr = np.array([1, 2, 3, 6, 4, 5])\n",
    "b) Find the most frequent value and their indice(s) in the following arrays:\n",
    "i. x = np.array([1,2,3,4,5,1,2,1,1,1])\n",
    "ii. y = np.array([1, 1, 1, 2, 3, 4, 2, 4, 3, 3, ])"
   ]
  },
  {
   "cell_type": "code",
   "execution_count": 6,
   "id": "a16e5f70-cfcb-47ed-a883-11e5607ccb86",
   "metadata": {},
   "outputs": [
    {
     "name": "stdout",
     "output_type": "stream",
     "text": [
      "Original array:  [1 2 3 6 4 5]\n",
      "Reversed array:  [5 4 6 3 2 1]\n",
      "Array x:  [1 2 3 4 5 1 2 1 1 1]\n",
      "Mode of x:  1\n",
      "Maximum frequency of mode of array:  5\n",
      "Array y:  [1 1 1 2 3 4 2 4 3 3]\n",
      "Mode of y: 1 3 \n",
      "Maximum frequency of mode of array:  3\n"
     ]
    }
   ],
   "source": [
    "a=np.array([1,2,3,6,4,5])\n",
    "print(\"Original array: \",a)\n",
    "print(\"Reversed array: \",np.flip(a))\n",
    "x=np.array([1,2,3,4,5,1,2,1,1,1])\n",
    "print(\"Array x: \",x)\n",
    "print(\"Mode of x: \",np.bincount(x).argmax())\n",
    "print(\"Maximum frequency of mode of array: \",np.bincount(x).max())\n",
    "y=np.array([1,1,1,2,3,4,2,4,3,3,])\n",
    "print(\"Array y: \",y)\n",
    "b=np.bincount(y)\n",
    "maximum=max(b)\n",
    "print(\"Mode of y: \",end=\"\")\n",
    "for i in range(len(b)):\n",
    "    if b[i]==maximum:\n",
    "        print(i,end=\" \")\n",
    "print()\n",
    "print(\"Maximum frequency of mode of array: \",np.bincount(y).max())"
   ]
  },
  {
   "cell_type": "markdown",
   "id": "e5880b07",
   "metadata": {},
   "source": [
    "For the given 2-D array arr=np.array([10, 20, 30], [40, 50, 60], [70, 80, 90]), access\n",
    "elements using row and column indices as follows:\n",
    "a) Access 1st row, 2nd column\n",
    "b) Access 3rd row, 1st column"
   ]
  },
  {
   "cell_type": "code",
   "execution_count": 8,
   "id": "918b55e0-f9ab-47e5-83af-cf3fb284e9fc",
   "metadata": {},
   "outputs": [
    {
     "name": "stdout",
     "output_type": "stream",
     "text": [
      "Array:  [[10 20 30]\n",
      " [40 50 60]\n",
      " [70 80 90]]\n",
      "Element at first row second column:  20\n",
      "Element at third row first column:  70\n"
     ]
    }
   ],
   "source": [
    "arr=np.array([[10,20,30],[40,50,60],[70,80,90]])\n",
    "print(\"Array: \",arr)\n",
    "print(\"Element at first row second column: \",arr[0,1])\n",
    "print(\"Element at third row first column: \",arr[2,0])"
   ]
  },
  {
   "cell_type": "markdown",
   "id": "8ead3654",
   "metadata": {},
   "source": [
    "Write program to create an 1-D NumPy array named <<Your Name>> with evenly\n",
    "spaced 25 numbers from 10 to 100 using linspace(). Print the dimensions of the array,\n",
    "shape, total elements, the data type of each element and total number of bytes consumed\n",
    "by the array. Find the transpose of this array using reshape() attribute. Can we do the same\n",
    "with T attribute?"
   ]
  },
  {
   "cell_type": "code",
   "execution_count": 10,
   "id": "2550f736-9205-409a-924b-3c6c8a7d7538",
   "metadata": {},
   "outputs": [
    {
     "name": "stdout",
     "output_type": "stream",
     "text": [
      "Original Array:  [ 10.    13.75  17.5   21.25  25.    28.75  32.5   36.25  40.    43.75\n",
      "  47.5   51.25  55.    58.75  62.5   66.25  70.    73.75  77.5   81.25\n",
      "  85.    88.75  92.5   96.25 100.  ]\n",
      "Dimension of array:  1\n",
      "Shape of array:  (25,)\n",
      "Total no. of elements of Array 25\n",
      "Datatype of array:  float64\n",
      "Size of array(Bytes):  200\n",
      "Transpose of array using reshape:  [[ 10.  ]\n",
      " [ 13.75]\n",
      " [ 17.5 ]\n",
      " [ 21.25]\n",
      " [ 25.  ]\n",
      " [ 28.75]\n",
      " [ 32.5 ]\n",
      " [ 36.25]\n",
      " [ 40.  ]\n",
      " [ 43.75]\n",
      " [ 47.5 ]\n",
      " [ 51.25]\n",
      " [ 55.  ]\n",
      " [ 58.75]\n",
      " [ 62.5 ]\n",
      " [ 66.25]\n",
      " [ 70.  ]\n",
      " [ 73.75]\n",
      " [ 77.5 ]\n",
      " [ 81.25]\n",
      " [ 85.  ]\n",
      " [ 88.75]\n",
      " [ 92.5 ]\n",
      " [ 96.25]\n",
      " [100.  ]]\n",
      "Transpose using attribute T:  [ 10.    13.75  17.5   21.25  25.    28.75  32.5   36.25  40.    43.75\n",
      "  47.5   51.25  55.    58.75  62.5   66.25  70.    73.75  77.5   81.25\n",
      "  85.    88.75  92.5   96.25 100.  ]\n"
     ]
    }
   ],
   "source": [
    "Chhavil=np.linspace(10,100,25)\n",
    "print(\"Original Array: \",Chhavil)\n",
    "print(\"Dimension of array: \",Chhavil.ndim)\n",
    "print(\"Shape of array: \",Chhavil.shape)\n",
    "print(\"Total no. of elements of Array\",Chhavil.size)\n",
    "print(\"Datatype of array: \",Chhavil.dtype)\n",
    "print(\"Size of array(Bytes): \",Chhavil.itemsize*Chhavil.size)\n",
    "print(\"Transpose of array using reshape: \",Chhavil.reshape(Chhavil.size,1))\n",
    "print(\"Transpose using attribute T: \",Chhavil.T)"
   ]
  },
  {
   "cell_type": "markdown",
   "id": "2409eb1c",
   "metadata": {},
   "source": [
    "Create a 2-D Array of three rows and four columns, named ucs420_<your_name>>\n",
    "with following values – 10, 20, 30, 40, 50, 60, 70, 80, 90, 15, 20, 35. Compute the mean,\n",
    "median, max, min, unique elements. Reshape the array to four rows and three columns and\n",
    "name it as reshaped_ ucs420_<your_name>>. Resize the array to two rows and three\n",
    "columns and name it as resized_ ucs420_<your_name>>."
   ]
  },
  {
   "cell_type": "code",
   "execution_count": 12,
   "id": "0acbf43c-9b5b-4ca7-b48e-244567d15a59",
   "metadata": {},
   "outputs": [
    {
     "name": "stdout",
     "output_type": "stream",
     "text": [
      "Original array:  [[10 20 30 40]\n",
      " [50 60 70 80]\n",
      " [90 15 20 35]]\n",
      "Mean of array:  43.333333333333336\n",
      "Median of array:  37.5\n",
      "Max of array:  90\n",
      "Min of array:  10\n",
      "Unique of elements of array:  [10 15 20 30 35 40 50 60 70 80 90]\n",
      "Reshaped array(4,3):  [[10 20 30]\n",
      " [40 50 60]\n",
      " [70 80 90]\n",
      " [15 20 35]]\n",
      "Resized array(2,3):  [[10 20 30]\n",
      " [40 50 60]]\n"
     ]
    }
   ],
   "source": [
    "ucs420_Chhavil=np.array([10,20,30,40,50,60,70,80,90,15,20,35]).reshape(3,4)\n",
    "print(\"Original array: \",ucs420_Chhavil)\n",
    "print(\"Mean of array: \",np.mean(ucs420_Chhavil))\n",
    "print(\"Median of array: \",np.median(ucs420_Chhavil))\n",
    "print(\"Max of array: \",np.max(ucs420_Chhavil))\n",
    "print(\"Min of array: \",np.min(ucs420_Chhavil))\n",
    "print(\"Unique of elements of array: \",np.unique(ucs420_Chhavil))\n",
    "reshaped_ucs420_Chhavil=ucs420_Chhavil.reshape(4,3)\n",
    "print(\"Reshaped array(4,3): \",reshaped_ucs420_Chhavil)\n",
    "resized_ucs420_Chhavil=np.resize(ucs420_Chhavil,(2,3))\n",
    "print(\"Resized array(2,3): \",resized_ucs420_Chhavil)"
   ]
  },
  {
   "cell_type": "code",
   "execution_count": null,
   "id": "cda69347-ac7e-4d66-9474-388fe524d4d9",
   "metadata": {},
   "outputs": [],
   "source": []
  }
 ],
 "metadata": {
  "kernelspec": {
   "display_name": "Python [conda env:base] *",
   "language": "python",
   "name": "conda-base-py"
  },
  "language_info": {
   "codemirror_mode": {
    "name": "ipython",
    "version": 3
   },
   "file_extension": ".py",
   "mimetype": "text/x-python",
   "name": "python",
   "nbconvert_exporter": "python",
   "pygments_lexer": "ipython3",
   "version": "3.12.7"
  }
 },
 "nbformat": 4,
 "nbformat_minor": 5
}
