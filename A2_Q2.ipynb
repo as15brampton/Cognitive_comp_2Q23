{
 "cells": [
  {
   "cell_type": "markdown",
   "id": "5d439d2d-0a88-493b-a8e0-95bf468c3255",
   "metadata": {},
   "source": [
    "Create a tuple of marks scored as scores = (45, 89.5, 76, 45.4, 89, 92, 58, 45) and perform the following operations using tuple functions:\n",
    "Identify the highest score and its index in the tuple."
   ]
  },
  {
   "cell_type": "code",
   "execution_count": 15,
   "id": "7eb42972-8317-4741-80ae-c88160be415b",
   "metadata": {},
   "outputs": [
    {
     "name": "stdout",
     "output_type": "stream",
     "text": [
      "highest element:  92\n"
     ]
    },
    {
     "data": {
      "text/plain": [
       "5"
      ]
     },
     "execution_count": 15,
     "metadata": {},
     "output_type": "execute_result"
    }
   ],
   "source": [
    "tuple = (45, 89.5, 76, 45.4, 89, 92, 58, 45)\n",
    "print(\"highest element: \", max(tuple))\n",
    "tuple.index(max(tuple))"
   ]
  },
  {
   "cell_type": "markdown",
   "id": "dc6e6122",
   "metadata": {},
   "source": [
    "Find the lowest score and count how many times it appears."
   ]
  },
  {
   "cell_type": "code",
   "execution_count": 17,
   "id": "7aa6062c-19c9-4842-b14f-9d305a9ee917",
   "metadata": {},
   "outputs": [
    {
     "name": "stdout",
     "output_type": "stream",
     "text": [
      "lowest element:  45\n"
     ]
    },
    {
     "data": {
      "text/plain": [
       "2"
      ]
     },
     "execution_count": 17,
     "metadata": {},
     "output_type": "execute_result"
    }
   ],
   "source": [
    "tuple = (45, 89.5, 76, 45.4, 89, 92, 58, 45)\n",
    "print(\"lowest element: \", min(tuple))\n",
    "tuple.count(min(tuple))"
   ]
  },
  {
   "cell_type": "markdown",
   "id": "8ec83f92",
   "metadata": {},
   "source": [
    "Reverse the tuple and return it as a list."
   ]
  },
  {
   "cell_type": "code",
   "execution_count": 27,
   "id": "573afe5f-125f-44de-8825-ef9f94874ead",
   "metadata": {},
   "outputs": [
    {
     "name": "stdout",
     "output_type": "stream",
     "text": [
      "[45, 58, 92, 89, 45.4, 76, 89.5, 45]\n"
     ]
    }
   ],
   "source": [
    "tuples = (45, 89.5, 76, 45.4, 89, 92, 58, 45)\n",
    "reversed_list = list(tuples[::-1])\n",
    "print(reversed_list)\n"
   ]
  },
  {
   "cell_type": "markdown",
   "id": "03781a23",
   "metadata": {},
   "source": [
    "Check if a specific score ‘76’ (input by the user) is present in the tuple and\n",
    "print its first occurrence index, or a message saying it’s not present."
   ]
  },
  {
   "cell_type": "code",
   "execution_count": null,
   "id": "cbbf532e-5b8a-4813-86c9-30f094f686ae",
   "metadata": {},
   "outputs": [],
   "source": [
    "tuples = (45, 89.5, 76, 45.4, 89, 92, 58, 45)\n",
    "\n",
    "score = float(input(\"Enter the score to search for: \"))\n",
    "\n",
    "if score in tuples:\n",
    "    print(f\"The first occurrence of {score} is at index {tuples.index(score)}.\")\n",
    "else:\n",
    "    print(f\"The score {score} is not present in the tuple.\")\n"
   ]
  }
 ],
 "metadata": {
  "kernelspec": {
   "display_name": "Python 3 (ipykernel)",
   "language": "python",
   "name": "python3"
  },
  "language_info": {
   "codemirror_mode": {
    "name": "ipython",
    "version": 3
   },
   "file_extension": ".py",
   "mimetype": "text/x-python",
   "name": "python",
   "nbconvert_exporter": "python",
   "pygments_lexer": "ipython3",
   "version": "3.11.7"
  }
 },
 "nbformat": 4,
 "nbformat_minor": 5
}
