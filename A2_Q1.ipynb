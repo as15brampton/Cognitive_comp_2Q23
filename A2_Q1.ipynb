{
 "cells": [
  {
   "cell_type": "markdown",
   "id": "61ca0951-e008-48e3-815b-ed77888ce9df",
   "metadata": {},
   "source": [
    "Create a List L that is defined as= [10, 20, 30, 40, 50, 60, 70, 80]. WAP to add 200 and 300 to L."
   ]
  },
  {
   "cell_type": "code",
   "execution_count": 5,
   "id": "4effa2e6-4ba8-47b2-98da-2d6ed296023f",
   "metadata": {},
   "outputs": [
    {
     "name": "stdout",
     "output_type": "stream",
     "text": [
      "[10, 20, 30, 40, 50, 60, 70, 80, 200, 300]\n"
     ]
    }
   ],
   "source": [
    "my_list = [10, 20, 30, 40, 50, 60, 70, 80]\n",
    "my_list.append(200)\n",
    "my_list.append(300)\n",
    "print(my_list)"
   ]
  },
  {
   "cell_type": "markdown",
   "id": "5ad93e73",
   "metadata": {},
   "source": [
    "WAP to remove 10 and 30 from L."
   ]
  },
  {
   "cell_type": "code",
   "execution_count": 7,
   "id": "b6644693-ed6b-46cd-b848-bbfe0781a420",
   "metadata": {},
   "outputs": [
    {
     "name": "stdout",
     "output_type": "stream",
     "text": [
      "[20, 40, 50, 60, 70, 80, 200, 300]\n"
     ]
    }
   ],
   "source": [
    "my_list.remove(10)\n",
    "my_list.remove(30)\n",
    "print(my_list)"
   ]
  },
  {
   "cell_type": "markdown",
   "id": "7f7a33ad",
   "metadata": {},
   "source": [
    "WAP to sort L in ascending order."
   ]
  },
  {
   "cell_type": "code",
   "execution_count": 15,
   "id": "3a4ae294-ab17-47ee-86e8-2308e0d12f30",
   "metadata": {},
   "outputs": [
    {
     "name": "stdout",
     "output_type": "stream",
     "text": [
      "[20, 40, 50, 60, 70, 80, 200, 300]\n"
     ]
    }
   ],
   "source": [
    "my_list.sort()\n",
    "print(my_list)"
   ]
  },
  {
   "cell_type": "markdown",
   "id": "2bbe27ec",
   "metadata": {},
   "source": [
    "WAP to sort L in descending order."
   ]
  },
  {
   "cell_type": "code",
   "execution_count": 13,
   "id": "53044089-1cb1-4a40-a2de-d03df57d7728",
   "metadata": {},
   "outputs": [
    {
     "name": "stdout",
     "output_type": "stream",
     "text": [
      "[300, 200, 80, 70, 60, 50, 40, 20]\n"
     ]
    }
   ],
   "source": [
    "my_list.reverse()\n",
    "print(my_list)"
   ]
  }
 ],
 "metadata": {
  "kernelspec": {
   "display_name": "Python 3 (ipykernel)",
   "language": "python",
   "name": "python3"
  },
  "language_info": {
   "codemirror_mode": {
    "name": "ipython",
    "version": 3
   },
   "file_extension": ".py",
   "mimetype": "text/x-python",
   "name": "python",
   "nbconvert_exporter": "python",
   "pygments_lexer": "ipython3",
   "version": "3.11.7"
  }
 },
 "nbformat": 4,
 "nbformat_minor": 5
}
